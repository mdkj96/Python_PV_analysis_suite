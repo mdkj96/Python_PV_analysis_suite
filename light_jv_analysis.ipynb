{
 "cells": [
  {
   "cell_type": "markdown",
   "id": "ba676319",
   "metadata": {},
   "source": [
    "# JV Analysis\n"
   ]
  },
  {
   "cell_type": "code",
   "execution_count": 2,
   "id": "ae157ea7",
   "metadata": {},
   "outputs": [],
   "source": [
    "import os\n",
    "import numpy as np\n",
    "import matplotlib.pyplot as plt\n",
    "from scipy.interpolate import interp1d\n",
    "import pandas as pd\n",
    "import matplotlib.ticker as ticker\n",
    "\n",
    "# Set the path to the foldercontaining text files\n",
    "folder_path = \"C:\\\\Users\\\\w16025698\\\\OneDrive - Northumbria University - Production Azure AD\\\\PhD\\\\Characterisation\\\\JV\\\\230221J_JV\"\n",
    "\n",
    "file_name = \"A4.txt\"\n",
    "file_title = file_name.replace('.txt', '')\n",
    "\n",
    "# Read the data from the text file, skipping the first 12 lines\n",
    "data = np.loadtxt(os.path.join(folder_path, file_name), skiprows=12)\n",
    "\n",
    "# Extract the voltage and current data from the columns\n",
    "V = data[:,0]\n",
    "I = data[:,1] \n",
    "\n",
    "mV = V * 1000\n",
    "mA = I * 1000\n",
    "\n",
    "# Cell area cm2 and incident power density mW/cm2\n",
    "cell_area = 0.16\n",
    "incident_power_density = 100\n",
    "        \n",
    "# Current density mA/cm2\n",
    "current_density = mA / cell_area"
   ]
  },
  {
   "cell_type": "markdown",
   "id": "4e789c89",
   "metadata": {},
   "source": [
    "## Definitions"
   ]
  },
  {
   "cell_type": "code",
   "execution_count": 3,
   "id": "ef4ec27f",
   "metadata": {},
   "outputs": [],
   "source": [
    "# Interpolate more data points\n",
    "jv_interp = interp1d(mV, current_density, kind='linear', bounds_error=False, fill_value=\"extrapolate\")\n",
    "mV_i = np.linspace(-100, 600, 1000)\n",
    "current_density_i = jv_interp(mV_i)\n",
    "\n",
    "# Calculate the power density from the voltage and current density data : units mW/cm2\n",
    "power_density = current_density_i * mV_i / 1000\n",
    "\n",
    "# Indices of max power point\n",
    "max_power_index = np.argmax(power_density)"
   ]
  },
  {
   "cell_type": "markdown",
   "id": "afba3ae5",
   "metadata": {},
   "source": [
    "## Value Determination"
   ]
  },
  {
   "cell_type": "code",
   "execution_count": 4,
   "id": "f80b582d",
   "metadata": {},
   "outputs": [],
   "source": [
    "# Create a data frame to store device data\n",
    "df = pd.DataFrame(columns=['file_name', 'efficiency', 'open_circuit_voltage', 'short_circuit_current', 'fill_factor', 'Rs', 'Rsh'])\n",
    "\n",
    "# Calculate the open circuit voltage, short circuit current, fill factor and efficiency\n",
    "\n",
    "short_circuit_index = np.where(np.diff(np.sign(mV_i)))\n",
    "short_circuit_current = current_density_i[short_circuit_index]\n",
    "open_circuit_index = np.where(np.diff(np.sign(current_density_i)))\n",
    "open_circuit_voltage = mV_i[open_circuit_index]\n",
    "fill_factor = (mV_i[max_power_index]*current_density_i[max_power_index])/(open_circuit_voltage[0] *short_circuit_current[0])\n",
    "efficiency = short_circuit_current[0] * open_circuit_voltage[0] * fill_factor / incident_power_density /10\n",
    "\n",
    "# gradient calculation\n",
    "grad = np.gradient(current_density_i, mV_i)\n",
    "Voc_slope = grad[open_circuit_index]\n",
    "Rs = 1/ np.abs(Voc_slope)\n",
    "Jsc_slope = grad[0]\n",
    "Rsh = 1/np.abs(Jsc_slope)\n",
    "\n",
    "df = df.append({'file_name': file_name, 'efficiency': efficiency, 'open_circuit_voltage': open_circuit_voltage[0], 'short_circuit_current': short_circuit_current[0], 'fill_factor': fill_factor, 'Rs': Rs[0], 'Rsh': Rsh}, ignore_index=True)"
   ]
  },
  {
   "cell_type": "markdown",
   "id": "6b87311d",
   "metadata": {},
   "source": [
    "## Values"
   ]
  },
  {
   "cell_type": "code",
   "execution_count": 5,
   "id": "aa7a1a7a",
   "metadata": {
    "scrolled": true
   },
   "outputs": [
    {
     "name": "stdout",
     "output_type": "stream",
     "text": [
      "Maximum power density: 5.06 mWcm2\n",
      "Short circuit current density: 25.21 mAcm2\n",
      "Open circuit voltage: 414.31 mV\n",
      "Fill Factor: 0.48\n",
      "Efficiency: 5.06 %\n",
      "Series Resistance: 4.55 Ohms\n",
      "Shunt Resistance: 304.32 Ohms\n"
     ]
    },
    {
     "data": {
      "text/html": [
       "<div>\n",
       "<style scoped>\n",
       "    .dataframe tbody tr th:only-of-type {\n",
       "        vertical-align: middle;\n",
       "    }\n",
       "\n",
       "    .dataframe tbody tr th {\n",
       "        vertical-align: top;\n",
       "    }\n",
       "\n",
       "    .dataframe thead th {\n",
       "        text-align: right;\n",
       "    }\n",
       "</style>\n",
       "<table border=\"1\" class=\"dataframe\">\n",
       "  <thead>\n",
       "    <tr style=\"text-align: right;\">\n",
       "      <th></th>\n",
       "      <th>file_name</th>\n",
       "      <th>efficiency</th>\n",
       "      <th>open_circuit_voltage</th>\n",
       "      <th>short_circuit_current</th>\n",
       "      <th>fill_factor</th>\n",
       "      <th>Rs</th>\n",
       "      <th>Rsh</th>\n",
       "    </tr>\n",
       "  </thead>\n",
       "  <tbody>\n",
       "    <tr>\n",
       "      <th>0</th>\n",
       "      <td>A4.txt</td>\n",
       "      <td>5.058299</td>\n",
       "      <td>414.314314</td>\n",
       "      <td>25.214685</td>\n",
       "      <td>0.484196</td>\n",
       "      <td>4.552747</td>\n",
       "      <td>304.322939</td>\n",
       "    </tr>\n",
       "  </tbody>\n",
       "</table>\n",
       "</div>"
      ],
      "text/plain": [
       "  file_name  efficiency  open_circuit_voltage  short_circuit_current  \\\n",
       "0    A4.txt    5.058299            414.314314              25.214685   \n",
       "\n",
       "   fill_factor        Rs         Rsh  \n",
       "0     0.484196  4.552747  304.322939  "
      ]
     },
     "metadata": {},
     "output_type": "display_data"
    }
   ],
   "source": [
    "print(\"Maximum power density:\", \"{:.2f}\".format(power_density[max_power_index]), \"mWcm2\")\n",
    "print(\"Short circuit current density:\", \"{:.2f}\".format(short_circuit_current[0]), \"mAcm2\")\n",
    "print(\"Open circuit voltage:\", \"{:.2f}\".format(open_circuit_voltage[0]), \"mV\")\n",
    "print(\"Fill Factor:\",\"{:.2f}\".format(fill_factor))\n",
    "print(\"Efficiency:\", \"{:.2f}\".format(efficiency), \"%\")\n",
    "print(\"Series Resistance:\",\"{:.2f}\".format(Rs[0]), 'Ohms')\n",
    "print(\"Shunt Resistance:\",\"{:.2f}\".format(Rsh), 'Ohms')\n",
    "\n",
    "display(df)"
   ]
  },
  {
   "cell_type": "markdown",
   "id": "73b7a8c5",
   "metadata": {},
   "source": [
    "##  JV & power denisty plot"
   ]
  },
  {
   "cell_type": "code",
   "execution_count": 6,
   "id": "3a76a784",
   "metadata": {},
   "outputs": [
    {
     "data": {
      "image/png": "[encoded data removed]",
      "text/plain": [
       "<Figure size 432x288 with 2 Axes>"
      ]
     },
     "metadata": {
      "needs_background": "light"
     },
     "output_type": "display_data"
    }
   ],
   "source": [
    "# Plot the JV curve and the power curve on the same plot\n",
    "fig, ax1 = plt.subplots()\n",
    "\n",
    "# Plot the JV curve on the left axis\n",
    "ax1.set_xlabel(\"Voltage (mV)\")\n",
    "ax1.set_ylabel(\"Current Density (mA/cm$^2$)\")\n",
    "ax1.scatter(mV, current_density, c='k', alpha=0.8, marker='o', s=20)\n",
    "ax1.plot(mV_i, current_density_i, color='k')\n",
    "ax1.tick_params(axis='y', labelcolor='k')\n",
    "ax1.set_ylim(-5, 30)\n",
    "ax1.set_xlim(-50, 600)\n",
    "ax1.xaxis.set_minor_locator(ticker.MultipleLocator(20))\n",
    "ax1.yaxis.set_minor_locator(ticker.MultipleLocator(1))\n",
    "ax1.grid()\n",
    "plt.axhline(0, color='k')\n",
    "plt.axvline(0, color='k')\n",
    "\n",
    "# Plot Voc and Jsc\n",
    "#plt.plot(open_circuit_voltage[0], 0 ,'ro')\n",
    "#plt.plot(0, short_circuit_current[0], 'ro')\n",
    "\n",
    "# Create a second axis for the power curve on the right\n",
    "ax2 = ax1.twinx()\n",
    "ax2.set_ylabel(\"Power Density (mW/cm$^2$)\")\n",
    "#ax2.scatter(mV_i, power_density, c='r', alpha=0.8, marker='o', s=20)\n",
    "ax2.plot(mV_i, power_density, color='red')\n",
    "ax2.tick_params(axis='y', labelcolor='red')\n",
    "ax2.yaxis.set_minor_locator(ticker.MultipleLocator(1))\n",
    "ax2.set_ylim(-5, 30)\n",
    "#ax2.grid()\n",
    "#plt.plot(mV_i[max_power_index],power_density[max_power_index],'ko')\n",
    "plt.tight_layout()\n",
    "\n",
    "# Add a table with parameters\n",
    "table_data = [\n",
    "    ['Parameter', 'Value'],\n",
    "    ['Pmax', \"{:.2f}\".format(power_density[max_power_index]) + ' mW/cm$^2$'],\n",
    "    ['Jsc', \"{:.2f}\".format(short_circuit_current[0]) + ' mA/cm$^2$'],\n",
    "    ['Voc', \"{:.2f}\".format(open_circuit_voltage[0]) + ' mV'],\n",
    "    ['FF', \"{:.2f}\".format(fill_factor)],\n",
    "    ['Efficiency', \"{:.2f}\".format(efficiency) + ' %'],\n",
    "    ['Rs', \"{:.2f}\".format(Rs[0]) + ' \\u03A9 cm$^2$'],\n",
    "    ['Rsh', \"{:.2f}\".format(Rsh) + ' \\u03A9 cm$^2$'],\n",
    "]\n",
    "\n",
    "table = plt.table(cellText=table_data, colWidths=[0.4, 0.4], loc='upper right')\n",
    "table.auto_set_font_size(False)\n",
    "table.set_fontsize(7)\n",
    "table.scale(0.5, 1.0)\n",
    "\n",
    "# Add a title and show the plot\n",
    "#plt.title(file_title + '_JV')\n",
    "\n",
    "# Figure save settings\n",
    "save_dir = os.path.join(folder_path, 'JV plots')\n",
    "if not os.path.exists(save_dir):\n",
    "    os.makedirs(save_dir)\n",
    "plt.savefig(os.path.join(save_dir, file_title + '.png'), dpi=300)"
   ]
  },
  {
   "cell_type": "code",
   "execution_count": null,
   "id": "6d91914e",
   "metadata": {},
   "outputs": [],
   "source": []
  }
 ],
 "metadata": {
  "kernelspec": {
   "display_name": "Python 3 (ipykernel)",
   "language": "python",
   "name": "python3"
  },
  "language_info": {
   "codemirror_mode": {
    "name": "ipython",
    "version": 3
   },
   "file_extension": ".py",
   "mimetype": "text/x-python",
   "name": "python",
   "nbconvert_exporter": "python",
   "pygments_lexer": "ipython3",
   "version": "3.9.7"
  }
 },
 "nbformat": 4,
 "nbformat_minor": 5
}
